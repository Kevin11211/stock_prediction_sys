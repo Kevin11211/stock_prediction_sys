{
 "cells": [
  {
   "cell_type": "code",
   "execution_count": 4,
   "metadata": {},
   "outputs": [],
   "source": [
    "import numpy as np\n",
    "import pandas as pd\n",
    "from sklearn.model_selection import TimeSeriesSplit\n",
    "\n",
    "metadata = pd.read_csv(\"../stock_data_cleaned/stock_vector_and_encoding.csv\")"
   ]
  },
  {
   "cell_type": "code",
   "execution_count": 3,
   "metadata": {},
   "outputs": [],
   "source": [
    "# 定义时间序列拆分器\n",
    "tscv = TimeSeriesSplit(n_splits=5)\n",
    "# 初始化一个 100x5 的数组，初始值为 0\n",
    "split_array = np.zeros((100, 5))\n",
    "\n",
    "# 进行时间序列拆分\n",
    "for fold, (train_index, test_index) in enumerate(tscv.split(np.arange(100))):\n",
    "    split_array[train_index, fold] = 1\n",
    "    split_array[test_index, fold] = 2"
   ]
  },
  {
   "cell_type": "code",
   "execution_count": 5,
   "metadata": {},
   "outputs": [],
   "source": [
    "original_path = \"stock_data_model\"\n",
    "split_path = \"stock_data_model_split\"\n",
    "# 定义时间序列拆分器\n",
    "tscv = TimeSeriesSplit(n_splits=5)\n",
    "\n",
    "for file in metadata[\"Symbol\"]:\n",
    "    data = pd.read_csv(\"../\" + original_path + \"/\" + file + \".csv\")\n",
    "    split_array = np.zeros((len(data), 5))\n",
    "    for fold, (train_index, test_index) in enumerate(tscv.split(np.arange(len(data)))):\n",
    "        split_array[train_index, fold] = 1\n",
    "        split_array[test_index, fold] = 2\n",
    "    split_df = pd.DataFrame(\n",
    "        split_array, columns=[\"split_0\", \"split_1\", \"split_2\", \"split_3\", \"split_4\"]\n",
    "    )\n",
    "    data = pd.concat([data, split_df], axis=1)\n",
    "    data.to_csv(\"../\" + split_path + \"/\" + file + \".csv\")"
   ]
  }
 ],
 "metadata": {
  "kernelspec": {
   "display_name": "Python 3",
   "language": "python",
   "name": "python3"
  },
  "language_info": {
   "codemirror_mode": {
    "name": "ipython",
    "version": 3
   },
   "file_extension": ".py",
   "mimetype": "text/x-python",
   "name": "python",
   "nbconvert_exporter": "python",
   "pygments_lexer": "ipython3",
   "version": "3.10.14"
  }
 },
 "nbformat": 4,
 "nbformat_minor": 2
}

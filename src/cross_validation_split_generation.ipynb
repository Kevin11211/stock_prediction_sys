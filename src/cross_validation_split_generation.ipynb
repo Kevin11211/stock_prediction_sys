{
 "cells": [
  {
   "cell_type": "code",
   "execution_count": 1,
   "metadata": {},
   "outputs": [],
   "source": [
    "import numpy as np\n",
    "import pandas as pd\n",
    "import os\n",
    "from my_utils.model_selection import BlockingTimeSeriesSplit\n",
    "\n",
    "\n",
    "metadata = pd.read_csv(\"../stock_data_cleaned/symbol_sector.csv\")\n",
    "data_path = \"../stock_data_model/\"\n",
    "# Define the sectors to keep\n",
    "sectors_to_keep = [\"Finance\", \"Technology\"]"
   ]
  },
  {
   "cell_type": "code",
   "execution_count": 16,
   "metadata": {},
   "outputs": [
    {
     "data": {
      "text/plain": [
       "'Technology'"
      ]
     },
     "execution_count": 16,
     "metadata": {},
     "output_type": "execute_result"
    }
   ],
   "source": [
    "metadata.loc[metadata[\"Symbol\"] == \"AAPL\", \"Sector\"].values[0]"
   ]
  },
  {
   "cell_type": "code",
   "execution_count": 20,
   "metadata": {},
   "outputs": [],
   "source": [
    "for index, row in metadata.iterrows():\n",
    "    stockID = row[\"Symbol\"]\n",
    "    sector = row[\"Sector\"]\n",
    "    if sector in sectors_to_keep and not os.path.exists(data_path + stockID + \".csv\"):\n",
    "        print(stockID)"
   ]
  },
  {
   "cell_type": "code",
   "execution_count": 14,
   "metadata": {},
   "outputs": [
    {
     "data": {
      "text/plain": [
       "<generator object DataFrame.iterrows at 0x000002A3B54E0580>"
      ]
     },
     "execution_count": 14,
     "metadata": {},
     "output_type": "execute_result"
    }
   ],
   "source": [
    "metadata.iterrows()"
   ]
  },
  {
   "cell_type": "code",
   "execution_count": 6,
   "metadata": {},
   "outputs": [],
   "source": [
    "for index, row in metadata.iterrows():\n",
    "    stockID = row[\"Symbol\"]\n",
    "    sector = row[\"Sector\"]\n",
    "    if os.path.exists(data_path + stockID + \".csv\") and sector not in sectors_to_keep:\n",
    "        os.remove(data_path + stockID + \".csv\")"
   ]
  },
  {
   "cell_type": "code",
   "execution_count": null,
   "metadata": {},
   "outputs": [],
   "source": [
    "# 定义时间序列拆分器\n",
    "tscv = BlockingTimeSeriesSplit(n_splits=5)\n",
    "# 初始化一个 100x5 的数组，初始值为 0\n",
    "split_array = np.zeros((100, 5))\n",
    "\n",
    "# 进行时间序列拆分\n",
    "for fold, (train_index, test_index) in enumerate(tscv.split(np.arange(100))):\n",
    "    split_array[train_index, fold] = 1\n",
    "    split_array[test_index, fold] = 2"
   ]
  },
  {
   "cell_type": "code",
   "execution_count": 2,
   "metadata": {},
   "outputs": [],
   "source": [
    "original_path = \"../stock_data_model/\"\n",
    "split_path = \"../stock_data_model_split/\"\n",
    "if not os.path.exists(split_path):\n",
    "    os.mkdir(split_path)"
   ]
  },
  {
   "cell_type": "code",
   "execution_count": 5,
   "metadata": {},
   "outputs": [],
   "source": [
    "# 定义时间序列拆分器\n",
    "tscv = BlockingTimeSeriesSplit(n_splits=5)\n",
    "\n",
    "for index, row in metadata.iterrows():\n",
    "    stockID = row[\"Symbol\"]\n",
    "    sector = row[\"Sector\"]\n",
    "    # if sector not in sectors_to_keep:\n",
    "    #     continue\n",
    "    data = pd.read_csv(original_path + stockID + \".csv\")\n",
    "    split_array = np.zeros((len(data), 5))\n",
    "    for fold, (train_index, test_index) in enumerate(tscv.split(np.arange(len(data)))):\n",
    "        split_array[train_index, fold] = 1\n",
    "        split_array[test_index, fold] = 2\n",
    "    split_df = pd.DataFrame(\n",
    "        split_array, columns=[\"split_0\", \"split_1\", \"split_2\", \"split_3\", \"split_4\"]\n",
    "    )\n",
    "    data = pd.concat([data, split_df], axis=1)\n",
    "    data.to_csv(split_path + stockID + \".csv\")"
   ]
  }
 ],
 "metadata": {
  "kernelspec": {
   "display_name": "Python 3",
   "language": "python",
   "name": "python3"
  },
  "language_info": {
   "codemirror_mode": {
    "name": "ipython",
    "version": 3
   },
   "file_extension": ".py",
   "mimetype": "text/x-python",
   "name": "python",
   "nbconvert_exporter": "python",
   "pygments_lexer": "ipython3",
   "version": "3.10.14"
  }
 },
 "nbformat": 4,
 "nbformat_minor": 2
}

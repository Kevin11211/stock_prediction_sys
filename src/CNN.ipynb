{
 "cells": [
  {
   "cell_type": "code",
   "execution_count": 2,
   "metadata": {},
   "outputs": [
    {
     "name": "stdout",
     "output_type": "stream",
     "text": [
      "CNN1DModel(\n",
      "  (conv1): Conv1d(60, 128, kernel_size=(3,), stride=(1,), padding=(1,))\n",
      "  (pool1): MaxPool1d(kernel_size=2, stride=2, padding=0, dilation=1, ceil_mode=False)\n",
      "  (conv2): Conv1d(128, 256, kernel_size=(3,), stride=(1,), padding=(1,))\n",
      "  (pool2): MaxPool1d(kernel_size=2, stride=2, padding=0, dilation=1, ceil_mode=False)\n",
      "  (conv3): Conv1d(256, 512, kernel_size=(3,), stride=(1,), padding=(1,))\n",
      "  (pool3): MaxPool1d(kernel_size=2, stride=2, padding=0, dilation=1, ceil_mode=False)\n",
      "  (fc): Linear(in_features=4096, out_features=1, bias=True)\n",
      ")\n",
      "torch.Size([16, 128, 70])\n",
      "torch.Size([16, 128, 35])\n",
      "torch.Size([16, 256, 35])\n",
      "torch.Size([16, 256, 17])\n",
      "torch.Size([16, 512, 17])\n",
      "torch.Size([16, 512, 8])\n",
      "torch.Size([16, 4096])\n",
      "torch.Size([16, 1])\n",
      "torch.Size([16, 1])\n"
     ]
    }
   ],
   "source": [
    "import torch\n",
    "import torch.nn as nn\n",
    "\n",
    "class CNN1DModel(nn.Module):\n",
    "    def __init__(self):\n",
    "        super(CNN1DModel, self).__init__()\n",
    "        self.conv1 = nn.Conv1d(in_channels=60, out_channels=128, kernel_size=3, padding=1)  # 输入通道为70，输出通道为128，卷积核大小为3\n",
    "        self.pool1 = nn.MaxPool1d(kernel_size=2, stride=2)  # 最大池化层，池化核大小为2，步长为2\n",
    "        self.conv2 = nn.Conv1d(in_channels=128, out_channels=256, kernel_size=3, padding=1)  # 第二层卷积\n",
    "        self.pool2 = nn.MaxPool1d(kernel_size=2, stride=2)  # 第二层池化\n",
    "        self.conv3 = nn.Conv1d(in_channels=256, out_channels=512, kernel_size=3, padding=1)  # 第三层卷积\n",
    "        self.pool3 = nn.MaxPool1d(kernel_size=2, stride=2)  # 第三层池化\n",
    "        self.fc = nn.Linear(in_features=512 * 8, out_features=1)  # 全连接层，将最后一层卷积的输出展平并映射到输出1\n",
    "\n",
    "    def forward(self, x):\n",
    "        x = self.conv1(x)\n",
    "        print(x.shape)\n",
    "        x = torch.relu(x)\n",
    "        x = self.pool1(x)\n",
    "        print(x.shape)\n",
    "        x = self.conv2(x)\n",
    "        print(x.shape)\n",
    "        x = torch.relu(x)\n",
    "        x = self.pool2(x)\n",
    "        print(x.shape)\n",
    "        x = self.conv3(x)\n",
    "        print(x.shape)\n",
    "        x = torch.relu(x)\n",
    "        x = self.pool3(x)\n",
    "        print(x.shape)\n",
    "        x = x.view(x.size(0), -1)  # 展平\n",
    "        print(x.shape)\n",
    "        x = self.fc(x)\n",
    "        print(x.shape)\n",
    "        return x\n",
    "\n",
    "# 创建模型实例并打印模型结构\n",
    "model = CNN1DModel()\n",
    "print(model)\n",
    "\n",
    "# 测试模型输出形状\n",
    "input_tensor = torch.randn(16, 60, 70)\n",
    "output_tensor = model(input_tensor)\n",
    "print(output_tensor.shape)"
   ]
  }
 ],
 "metadata": {
  "kernelspec": {
   "display_name": "machine_learning",
   "language": "python",
   "name": "python3"
  },
  "language_info": {
   "codemirror_mode": {
    "name": "ipython",
    "version": 3
   },
   "file_extension": ".py",
   "mimetype": "text/x-python",
   "name": "python",
   "nbconvert_exporter": "python",
   "pygments_lexer": "ipython3",
   "version": "3.10.14"
  }
 },
 "nbformat": 4,
 "nbformat_minor": 2
}

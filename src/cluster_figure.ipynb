{
 "cells": [
  {
   "cell_type": "code",
   "execution_count": 1,
   "metadata": {},
   "outputs": [],
   "source": [
    "import pandas as pd\n",
    "import numpy as np\n",
    "import glob\n",
    "import os\n",
    "\n",
    "import matplotlib.pyplot as plt\n",
    "import matplotlib.dates as mdates\n",
    "from sklearn.preprocessing import MinMaxScaler\n",
    "\n",
    "cluster_results = pd.read_csv(\n",
    "    \"../clustering_results/hurst_clustering_result_Finance.csv\"\n",
    ")"
   ]
  },
  {
   "cell_type": "code",
   "execution_count": 2,
   "metadata": {},
   "outputs": [],
   "source": [
    "sector = \"Finance\""
   ]
  },
  {
   "cell_type": "code",
   "execution_count": 3,
   "metadata": {},
   "outputs": [],
   "source": [
    "csv_file_paths = glob.glob(\"../stock_data_model/Finance/*.csv\")\n",
    "end_date = \"2024-06-20\"\n",
    "start_date = \"2023-12-20\"\n",
    "stock_fig_dir = \"../stock_figure_hurst/\"\n",
    "\n",
    "\n",
    "def get_golden_length(start_date, end_date, sector):\n",
    "    if sector == \"Finance\":\n",
    "        csv_file_path = os.path.join(f\"../stock_data_model/\", sector, \"AAME.csv\")\n",
    "    else:\n",
    "        csv_file_path = os.path.join(f\"../stock_data_model/\", sector, \"AAPL.csv\")\n",
    "    data = pd.read_csv(csv_file_path)\n",
    "    filtered_data = data[(data[\"Date\"] >= start_date) & (data[\"Date\"] <= end_date)][\n",
    "        [\"Close\"]\n",
    "    ]\n",
    "    date_range = data[(data[\"Date\"] >= start_date) & (data[\"Date\"] <= end_date)][\n",
    "        [\"Date\"]\n",
    "    ]\n",
    "    return filtered_data.shape, date_range\n",
    "\n",
    "\n",
    "golden_shape, date_range = get_golden_length(start_date, end_date, sector)"
   ]
  },
  {
   "cell_type": "code",
   "execution_count": 4,
   "metadata": {},
   "outputs": [],
   "source": [
    "def standardize_data(data):\n",
    "    \"\"\"Standardize the data.\"\"\"\n",
    "    normalized_data = pd.DataFrame(\n",
    "        MinMaxScaler().fit_transform(data[[\"Close\"]]), columns=[\"Close\"]\n",
    "    )\n",
    "    normalized_data = pd.concat([data[\"Date\"], normalized_data], axis=1)\n",
    "    return normalized_data"
   ]
  },
  {
   "cell_type": "code",
   "execution_count": 5,
   "metadata": {},
   "outputs": [],
   "source": [
    "def read_and_filter_data(csv_file_path, start_date, end_date, golden_shape):\n",
    "    \"\"\"Read CSV file and filter data based on date range.\"\"\"\n",
    "    # logging.info(f'Reading and filtering data from {csv_file_path}')\n",
    "    data = pd.read_csv(csv_file_path)\n",
    "    data = standardize_data(data)\n",
    "    filtered_data = data[(data[\"Date\"] >= start_date) & (data[\"Date\"] <= end_date)][\n",
    "        [\"Close\"]\n",
    "    ]\n",
    "\n",
    "    required_length = golden_shape[0]\n",
    "    # 检查长度并填补0\n",
    "    if len(filtered_data) < required_length:\n",
    "        print(f\"filtered_data.shape = {filtered_data.shape}\")\n",
    "        fill_length = required_length - len(filtered_data)\n",
    "        fill_zeros = pd.DataFrame({\"Close\": [0] * fill_length})\n",
    "        filtered_data = pd.concat(\n",
    "            [fill_zeros, filtered_data], axis=0, ignore_index=True\n",
    "        )\n",
    "    return filtered_data.values.reshape(-1)"
   ]
  },
  {
   "cell_type": "code",
   "execution_count": 25,
   "metadata": {},
   "outputs": [],
   "source": [
    "stockID = \"AAME\"\n",
    "data = pd.read_csv(f\"../stock_data_model/Finance/{stockID}.csv\")\n",
    "normalized_data = pd.DataFrame(MinMaxScaler().fit_transform(data[[\"Close\"]]))\n",
    "data = pd.concat([data[\"Date\"], normalized_data], axis=1)"
   ]
  },
  {
   "cell_type": "code",
   "execution_count": 6,
   "metadata": {},
   "outputs": [
    {
     "data": {
      "text/plain": [
       "array([2, 1, 0], dtype=int64)"
      ]
     },
     "execution_count": 6,
     "metadata": {},
     "output_type": "execute_result"
    }
   ],
   "source": [
    "cluster_results[\"clusterID\"].unique()"
   ]
  },
  {
   "cell_type": "code",
   "execution_count": 9,
   "metadata": {},
   "outputs": [],
   "source": [
    "for cluster in cluster_results[\"clusterID\"].unique():\n",
    "    X = []\n",
    "    for stockID in cluster_results[\"stockID\"]:\n",
    "        cluster_id = cluster_results.loc[\n",
    "            cluster_results[\"stockID\"] == stockID, \"clusterID\"\n",
    "        ].values[0]\n",
    "        if cluster_id == cluster:\n",
    "            data = read_and_filter_data(\n",
    "                f\"../stock_data_model/Finance/{stockID}.csv\",\n",
    "                start_date,\n",
    "                end_date,\n",
    "                golden_shape,\n",
    "            )\n",
    "            # X.append(data)\n",
    "            # print(X.shape)\n",
    "            # Plot the 'Close' column\n",
    "            plt.figure(figsize=(10, 6))\n",
    "            # Column 3 corresponds to 'Close'\n",
    "            # print(f\"date_range = {date_range}, close = {standardized_data[:, 3]}\")\n",
    "            # print(date_range.to_numpy().shape)\n",
    "            # print(standardized_data[:, 3].shape)\n",
    "            plt.plot(date_range.to_numpy().reshape(-1), np.array(data).tolist())\n",
    "            plt.xlabel(\"Date\")\n",
    "            plt.ylabel(\"Standardized Close Value\")\n",
    "            plt.title(\n",
    "                f\"Standardized Close Prices for stockID = {stockID} cluster: {cluster}\"\n",
    "            )\n",
    "            # Set date format on x-axis to make it less dense\n",
    "            plt.gca().xaxis.set_major_locator(\n",
    "                mdates.MonthLocator(interval=1)\n",
    "            )  # Show every second week\n",
    "            plt.xticks(rotation=45)\n",
    "            plt.tight_layout()\n",
    "            plt.savefig(os.path.join(stock_fig_dir, sector, f\"{stockID}_{cluster}.jpg\"))\n",
    "            plt.close()\n",
    "    # X = np.array(X)\n",
    "    # X = np.sum(X, axis=0) / X.shape[0]"
   ]
  },
  {
   "cell_type": "code",
   "execution_count": null,
   "metadata": {},
   "outputs": [],
   "source": []
  }
 ],
 "metadata": {
  "kernelspec": {
   "display_name": "Python 3",
   "language": "python",
   "name": "python3"
  },
  "language_info": {
   "codemirror_mode": {
    "name": "ipython",
    "version": 3
   },
   "file_extension": ".py",
   "mimetype": "text/x-python",
   "name": "python",
   "nbconvert_exporter": "python",
   "pygments_lexer": "ipython3",
   "version": "3.10.14"
  }
 },
 "nbformat": 4,
 "nbformat_minor": 2
}

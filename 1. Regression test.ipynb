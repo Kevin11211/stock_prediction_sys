{
 "cells": [
  {
   "cell_type": "markdown",
   "id": "9f48e55d",
   "metadata": {},
   "source": [
    "#### 該文件包含1,338個案例，即目前已經登記過的保險計劃受益者、病人特點和計劃計入的總醫療費用特徵:\n",
    "\n",
    "* age:表示主要受益者年齡\n",
    "* sex:性別\n",
    "* bmi:身體質量指數,理想BMI在18.5~24.9之間\n",
    "* children:表示保險計劃中所包括的孩子/受撫養者的數量\n",
    "* smoker:表示被保險人是否經常吸煙\n",
    "* region:受益者在美國的居住地-東北(northeast), 東南(sotheast), 西南(southwest)和東北(northwest)\n",
    "* charges:醫療費用\n",
    "\n",
    "#### 目的:檢測與醫療費用相關之變量，找出在醫療費用上具高風險的人"
   ]
  },
  {
   "cell_type": "code",
   "execution_count": 1,
   "id": "841ee87c",
   "metadata": {},
   "outputs": [],
   "source": [
    "import pandas as pd\n",
    "import numpy as np\n",
    "import matplotlib.pyplot as plt\n",
    "import seaborn as sns\n",
    "from sklearn.metrics import mean_squared_error\n",
    "from sklearn.model_selection import cross_val_score\n",
    "from collections import Counter\n",
    "from sklearn.preprocessing import OneHotEncoder\n",
    "from sklearn.preprocessing import MinMaxScaler\n",
    "from sklearn.preprocessing import StandardScaler\n",
    "from sklearn.model_selection import train_test_split\n",
    "from sklearn.linear_model import LinearRegression\n",
    "from sklearn.preprocessing import PolynomialFeatures\n",
    "from sklearn import datasets, linear_model\n",
    "from sklearn.linear_model import LinearRegression, Ridge, Lasso\n",
    "from sklearn.metrics import r2_score"
   ]
  },
  {
   "cell_type": "code",
   "execution_count": 2,
   "id": "7b7890d2",
   "metadata": {},
   "outputs": [],
   "source": [
    "df = pd.read_csv('insurance.csv')"
   ]
  },
  {
   "cell_type": "code",
   "execution_count": 3,
   "id": "baec7742",
   "metadata": {},
   "outputs": [
    {
     "data": {
      "text/html": [
       "<div>\n",
       "<style scoped>\n",
       "    .dataframe tbody tr th:only-of-type {\n",
       "        vertical-align: middle;\n",
       "    }\n",
       "\n",
       "    .dataframe tbody tr th {\n",
       "        vertical-align: top;\n",
       "    }\n",
       "\n",
       "    .dataframe thead th {\n",
       "        text-align: right;\n",
       "    }\n",
       "</style>\n",
       "<table border=\"1\" class=\"dataframe\">\n",
       "  <thead>\n",
       "    <tr style=\"text-align: right;\">\n",
       "      <th></th>\n",
       "      <th>age</th>\n",
       "      <th>sex</th>\n",
       "      <th>bmi</th>\n",
       "      <th>children</th>\n",
       "      <th>smoker</th>\n",
       "      <th>region</th>\n",
       "      <th>charges</th>\n",
       "    </tr>\n",
       "  </thead>\n",
       "  <tbody>\n",
       "    <tr>\n",
       "      <th>0</th>\n",
       "      <td>19</td>\n",
       "      <td>female</td>\n",
       "      <td>27.900</td>\n",
       "      <td>0</td>\n",
       "      <td>yes</td>\n",
       "      <td>southwest</td>\n",
       "      <td>16884.92400</td>\n",
       "    </tr>\n",
       "    <tr>\n",
       "      <th>1</th>\n",
       "      <td>18</td>\n",
       "      <td>male</td>\n",
       "      <td>33.770</td>\n",
       "      <td>1</td>\n",
       "      <td>no</td>\n",
       "      <td>southeast</td>\n",
       "      <td>1725.55230</td>\n",
       "    </tr>\n",
       "    <tr>\n",
       "      <th>2</th>\n",
       "      <td>28</td>\n",
       "      <td>male</td>\n",
       "      <td>33.000</td>\n",
       "      <td>3</td>\n",
       "      <td>no</td>\n",
       "      <td>southeast</td>\n",
       "      <td>4449.46200</td>\n",
       "    </tr>\n",
       "    <tr>\n",
       "      <th>3</th>\n",
       "      <td>33</td>\n",
       "      <td>male</td>\n",
       "      <td>22.705</td>\n",
       "      <td>0</td>\n",
       "      <td>no</td>\n",
       "      <td>northwest</td>\n",
       "      <td>21984.47061</td>\n",
       "    </tr>\n",
       "    <tr>\n",
       "      <th>4</th>\n",
       "      <td>32</td>\n",
       "      <td>male</td>\n",
       "      <td>28.880</td>\n",
       "      <td>0</td>\n",
       "      <td>no</td>\n",
       "      <td>northwest</td>\n",
       "      <td>3866.85520</td>\n",
       "    </tr>\n",
       "  </tbody>\n",
       "</table>\n",
       "</div>"
      ],
      "text/plain": [
       "   age     sex     bmi  children smoker     region      charges\n",
       "0   19  female  27.900         0    yes  southwest  16884.92400\n",
       "1   18    male  33.770         1     no  southeast   1725.55230\n",
       "2   28    male  33.000         3     no  southeast   4449.46200\n",
       "3   33    male  22.705         0     no  northwest  21984.47061\n",
       "4   32    male  28.880         0     no  northwest   3866.85520"
      ]
     },
     "execution_count": 3,
     "metadata": {},
     "output_type": "execute_result"
    }
   ],
   "source": [
    "df.head()"
   ]
  },
  {
   "cell_type": "code",
   "execution_count": 4,
   "id": "a172dcf2",
   "metadata": {},
   "outputs": [
    {
     "name": "stdout",
     "output_type": "stream",
     "text": [
      "<class 'pandas.core.frame.DataFrame'>\n",
      "RangeIndex: 1338 entries, 0 to 1337\n",
      "Data columns (total 7 columns):\n",
      " #   Column    Non-Null Count  Dtype  \n",
      "---  ------    --------------  -----  \n",
      " 0   age       1338 non-null   int64  \n",
      " 1   sex       1338 non-null   object \n",
      " 2   bmi       1338 non-null   float64\n",
      " 3   children  1338 non-null   int64  \n",
      " 4   smoker    1338 non-null   object \n",
      " 5   region    1338 non-null   object \n",
      " 6   charges   1338 non-null   float64\n",
      "dtypes: float64(2), int64(2), object(3)\n",
      "memory usage: 73.3+ KB\n"
     ]
    }
   ],
   "source": [
    "df.info()"
   ]
  },
  {
   "cell_type": "code",
   "execution_count": 5,
   "id": "f6544fc8",
   "metadata": {},
   "outputs": [
    {
     "data": {
      "text/html": [
       "<div>\n",
       "<style scoped>\n",
       "    .dataframe tbody tr th:only-of-type {\n",
       "        vertical-align: middle;\n",
       "    }\n",
       "\n",
       "    .dataframe tbody tr th {\n",
       "        vertical-align: top;\n",
       "    }\n",
       "\n",
       "    .dataframe thead th {\n",
       "        text-align: right;\n",
       "    }\n",
       "</style>\n",
       "<table border=\"1\" class=\"dataframe\">\n",
       "  <thead>\n",
       "    <tr style=\"text-align: right;\">\n",
       "      <th></th>\n",
       "      <th>age</th>\n",
       "      <th>bmi</th>\n",
       "      <th>children</th>\n",
       "      <th>charges</th>\n",
       "    </tr>\n",
       "  </thead>\n",
       "  <tbody>\n",
       "    <tr>\n",
       "      <th>count</th>\n",
       "      <td>1338.000000</td>\n",
       "      <td>1338.000000</td>\n",
       "      <td>1338.000000</td>\n",
       "      <td>1338.000000</td>\n",
       "    </tr>\n",
       "    <tr>\n",
       "      <th>mean</th>\n",
       "      <td>39.207025</td>\n",
       "      <td>30.663397</td>\n",
       "      <td>1.094918</td>\n",
       "      <td>13270.422265</td>\n",
       "    </tr>\n",
       "    <tr>\n",
       "      <th>std</th>\n",
       "      <td>14.049960</td>\n",
       "      <td>6.098187</td>\n",
       "      <td>1.205493</td>\n",
       "      <td>12110.011237</td>\n",
       "    </tr>\n",
       "    <tr>\n",
       "      <th>min</th>\n",
       "      <td>18.000000</td>\n",
       "      <td>15.960000</td>\n",
       "      <td>0.000000</td>\n",
       "      <td>1121.873900</td>\n",
       "    </tr>\n",
       "    <tr>\n",
       "      <th>25%</th>\n",
       "      <td>27.000000</td>\n",
       "      <td>26.296250</td>\n",
       "      <td>0.000000</td>\n",
       "      <td>4740.287150</td>\n",
       "    </tr>\n",
       "    <tr>\n",
       "      <th>50%</th>\n",
       "      <td>39.000000</td>\n",
       "      <td>30.400000</td>\n",
       "      <td>1.000000</td>\n",
       "      <td>9382.033000</td>\n",
       "    </tr>\n",
       "    <tr>\n",
       "      <th>75%</th>\n",
       "      <td>51.000000</td>\n",
       "      <td>34.693750</td>\n",
       "      <td>2.000000</td>\n",
       "      <td>16639.912515</td>\n",
       "    </tr>\n",
       "    <tr>\n",
       "      <th>max</th>\n",
       "      <td>64.000000</td>\n",
       "      <td>53.130000</td>\n",
       "      <td>5.000000</td>\n",
       "      <td>63770.428010</td>\n",
       "    </tr>\n",
       "  </tbody>\n",
       "</table>\n",
       "</div>"
      ],
      "text/plain": [
       "               age          bmi     children       charges\n",
       "count  1338.000000  1338.000000  1338.000000   1338.000000\n",
       "mean     39.207025    30.663397     1.094918  13270.422265\n",
       "std      14.049960     6.098187     1.205493  12110.011237\n",
       "min      18.000000    15.960000     0.000000   1121.873900\n",
       "25%      27.000000    26.296250     0.000000   4740.287150\n",
       "50%      39.000000    30.400000     1.000000   9382.033000\n",
       "75%      51.000000    34.693750     2.000000  16639.912515\n",
       "max      64.000000    53.130000     5.000000  63770.428010"
      ]
     },
     "execution_count": 5,
     "metadata": {},
     "output_type": "execute_result"
    }
   ],
   "source": [
    "df.describe()"
   ]
  },
  {
   "cell_type": "code",
   "execution_count": 9,
   "id": "67a7e163",
   "metadata": {},
   "outputs": [
    {
     "data": {
      "text/plain": [
       "region\n",
       "southeast    364\n",
       "southwest    325\n",
       "northwest    325\n",
       "northeast    324\n",
       "Name: count, dtype: int64"
      ]
     },
     "execution_count": 9,
     "metadata": {},
     "output_type": "execute_result"
    }
   ],
   "source": [
    "df.loc[:, 'region'].value_counts()"
   ]
  },
  {
   "cell_type": "code",
   "execution_count": 10,
   "id": "c120a2c9",
   "metadata": {},
   "outputs": [
    {
     "data": {
      "text/plain": [
       "children\n",
       "0    574\n",
       "1    324\n",
       "2    240\n",
       "3    157\n",
       "4     25\n",
       "5     18\n",
       "Name: count, dtype: int64"
      ]
     },
     "execution_count": 10,
     "metadata": {},
     "output_type": "execute_result"
    }
   ],
   "source": [
    "df.loc[:, 'children'].value_counts()"
   ]
  },
  {
   "cell_type": "code",
   "execution_count": 11,
   "id": "dc6b600c",
   "metadata": {},
   "outputs": [
    {
     "data": {
      "text/plain": [
       "smoker\n",
       "no     1064\n",
       "yes     274\n",
       "Name: count, dtype: int64"
      ]
     },
     "execution_count": 11,
     "metadata": {},
     "output_type": "execute_result"
    }
   ],
   "source": [
    "df.loc[:, 'smoker'].value_counts()"
   ]
  },
  {
   "cell_type": "code",
   "execution_count": 53,
   "id": "840c051a",
   "metadata": {},
   "outputs": [],
   "source": [
    "\n"
   ]
  },
  {
   "cell_type": "code",
   "execution_count": 3,
   "id": "66eb62db",
   "metadata": {},
   "outputs": [],
   "source": [
    "new_df = df\n",
    "new_df.loc[df['sex']=='male', 'sex'] = 1\n",
    "new_df.loc[df['sex']=='female', 'sex'] = 0\n",
    "\n",
    "new_df.loc[df['smoker']=='yes', 'smoker'] = 1\n",
    "new_df.loc[df['smoker']=='no', 'smoker'] = 0\n",
    "\n",
    "new_df['regionX'] = pd.Series()\n",
    "new_df['regionY'] = pd.Series()\n",
    "new_df.loc[df['region']=='northeast', 'regionX'] = 1\n",
    "new_df.loc[df['region']=='northeast', 'regionY'] = 1\n",
    "\n",
    "new_df.loc[df['region']=='northwest', 'regionX'] = -1\n",
    "new_df.loc[df['region']=='northwest', 'regionY'] = 1\n",
    "\n",
    "new_df.loc[df['region']=='southeast', 'regionX'] = 1\n",
    "new_df.loc[df['region']=='southeast', 'regionY'] = -1\n",
    "\n",
    "new_df.loc[df['region']=='southwest', 'regionX'] = -1\n",
    "new_df.loc[df['region']=='southwest', 'regionY'] = -1\n",
    "new_df = new_df.drop('region', axis=1)"
   ]
  },
  {
   "cell_type": "code",
   "execution_count": 4,
   "id": "dbbb544c",
   "metadata": {},
   "outputs": [],
   "source": [
    "# OHE 方法一\n",
    "\n",
    "\n",
    "# df_one_hot = pd.get_dummies(new_df, columns=['region'], prefix='region')\n",
    "# df_one_hot['region_northeast'] = df_one_hot['region_northeast'].astype(int)\n",
    "# df_one_hot['region_northwest'] = df_one_hot['region_northwest'].astype(int)\n",
    "# df_one_hot['region_southeast'] = df_one_hot['region_southeast'].astype(int)\n",
    "# df_one_hot['region_southwest'] = df_one_hot['region_southwest'].astype(int)\n",
    "# df_one_hot.head()\n",
    "\n",
    "# df_one_hot = pd.get_dummies(df_one_hot, columns=['smoker'], prefix='smoker')\n",
    "# df_one_hot['smoker_yes'] = df_one_hot['smoker_yes'].astype(int)\n",
    "# df_one_hot['smoker_no'] = df_one_hot['smoker_no'].astype(int)\n",
    "# df_one_hot.head()\n"
   ]
  },
  {
   "cell_type": "code",
   "execution_count": 5,
   "id": "05eb6305",
   "metadata": {},
   "outputs": [],
   "source": [
    "\n",
    "y = np.log10(new_df.iloc[:, 5].values.reshape(-1,1)) # 轉換成1個column\n",
    "\n",
    "# X1 = df_one_hot.iloc[:, 0:5]\n",
    "# X2 = df_one_hot.iloc[:, 6:]\n",
    "X = new_df.drop('charges', axis=1)\n",
    "\n",
    "STANDARD = True\n",
    "if STANDARD:\n",
    "    scaler_new = StandardScaler()\n",
    "    X = scaler_new.fit_transform(X)\n",
    "else:\n",
    "    scaler_min_max = MinMaxScaler()\n",
    "    X = scaler_min_max.fit_transform(X)"
   ]
  },
  {
   "cell_type": "code",
   "execution_count": 6,
   "id": "2980e4bf",
   "metadata": {},
   "outputs": [],
   "source": [
    "# 分割訓練和測試\n",
    "X_train, X_test, y_train, y_test = train_test_split(X, y, test_size = 0.2, random_state = 25)"
   ]
  },
  {
   "cell_type": "code",
   "execution_count": 7,
   "id": "8433af4b",
   "metadata": {},
   "outputs": [
    {
     "name": "stdout",
     "output_type": "stream",
     "text": [
      "Shape of X_train:(1070, 7)\n",
      "Shape of X_test:(268, 7)\n",
      "Shape of y_train:(1070, 1)\n",
      "Shape of y_test(268, 1)\n"
     ]
    }
   ],
   "source": [
    "print(f\"Shape of X_train:{X_train.shape}\")\n",
    "print(f\"Shape of X_test:{X_test.shape}\")\n",
    "print(f\"Shape of y_train:{y_train.shape}\")\n",
    "print(f\"Shape of y_test{y_test.shape}\")"
   ]
  },
  {
   "cell_type": "code",
   "execution_count": 8,
   "id": "0a9cf323",
   "metadata": {},
   "outputs": [
    {
     "data": {
      "text/plain": [
       "<Axes: >"
      ]
     },
     "execution_count": 8,
     "metadata": {},
     "output_type": "execute_result"
    },
    {
     "data": {
      "image/png": "[encoded data removed]",
      "text/plain": [
       "<Figure size 1800x1000 with 2 Axes>"
      ]
     },
     "metadata": {},
     "output_type": "display_data"
    }
   ],
   "source": [
    "corrmat = new_df.corr()\n",
    "fig, ax = plt.subplots(figsize = (18, 10))\n",
    "sns.heatmap(corrmat, annot = True, annot_kws={'size': 12})"
   ]
  },
  {
   "cell_type": "code",
   "execution_count": 9,
   "id": "ca645c50",
   "metadata": {},
   "outputs": [
    {
     "name": "stdout",
     "output_type": "stream",
     "text": [
      "R2_score (train):  0.8336226678810759\n",
      "R2_score (test):  0.8737431883533943\n",
      "RMSE:  0.1623858449804057\n",
      "RMSE:  0.14331266768812984\n"
     ]
    }
   ],
   "source": [
    "\n",
    "poly_reg = PolynomialFeatures(degree = 2)\n",
    "X_poly = poly_reg.fit_transform(X_train)\n",
    "poly_reg.fit(X_poly, y_train)\n",
    "regressor_poly2 = LinearRegression()\n",
    "regressor_poly2.fit(X_poly, y_train)\n",
    "\n",
    "y_pred_poly2_train = regressor_poly2.predict(poly_reg.fit_transform(X_train))\n",
    "r2_score_poly2_train = r2_score(y_train, y_pred_poly2_train)\n",
    "\n",
    "y_pred_poly2_test = regressor_poly2.predict(poly_reg.fit_transform(X_test))\n",
    "r2_score_poly2_test = r2_score(y_test, y_pred_poly2_test)\n",
    "\n",
    "rmse_train = (np.sqrt(mean_squared_error(y_train, y_pred_poly2_train)))\n",
    "rmse_test = (np.sqrt(mean_squared_error(y_test, y_pred_poly2_test)))\n",
    "\n",
    "print('R2_score (train): ', r2_score_poly2_train)\n",
    "print('R2_score (test): ', r2_score_poly2_test)\n",
    "print(\"RMSE: \", rmse_train)\n",
    "print(\"RMSE: \", rmse_test)"
   ]
  },
  {
   "cell_type": "code",
   "execution_count": 20,
   "id": "db79911d",
   "metadata": {},
   "outputs": [
    {
     "name": "stdout",
     "output_type": "stream",
     "text": [
      "coef：\n",
      "age 0.0\n",
      "sex 0.20250583892410645\n",
      "bmi -0.017727370711423947\n",
      "children 0.03677212845568614\n",
      "smoker 0.06446296971854112\n",
      "charges 0.2684949872465872\n",
      "regionX 0.007996371736015983\n",
      "regionY 0.028298515452946982\n",
      "R2_score (train):  0.8336193997921775\n",
      "R2_score (test): 0.8737513989166654\n",
      "train_RMSE:  0.1623874398153645\n",
      "test_RMSE:  0.14330800775398086\n"
     ]
    }
   ],
   "source": [
    "lasso = Lasso(alpha = 0.00005) # , positive=True\n",
    "poly_reg = PolynomialFeatures(degree = 2)\n",
    "X_poly_train = X_poly_test = []\n",
    "X_poly_train = poly_reg.fit_transform(X_train)\n",
    "X_poly_test = poly_reg.fit_transform(X_test)\n",
    "\n",
    "lasso.fit(X_poly_train,y_train)\n",
    "\n",
    "y_pred_lasso_train = lasso.predict(X_poly_train)\n",
    "r2_score_lasso_train = lasso.score(X_poly_train, y_train)\n",
    "\n",
    "y_pred_lasso_test = lasso.predict(X_poly_test)\n",
    "r2_score_lasso_test = lasso.score(X_poly_test, y_test)\n",
    "\n",
    "rmse_lasso_train = (np.sqrt(mean_squared_error(y_train, y_pred_lasso_train)))\n",
    "rmse_lasso_test = (np.sqrt(mean_squared_error(y_test, y_pred_lasso_test)))\n",
    "\n",
    "print(\"coef：\")\n",
    "for i, j in zip(new_df.columns, lasso.coef_):\n",
    "    print(i, j)\n",
    "\n",
    "print(\"R2_score (train): \",r2_score_lasso_train)\n",
    "print(\"R2_score (test):\", r2_score_lasso_test)\n",
    "print(\"train_RMSE: \", rmse_lasso_train)\n",
    "print(\"test_RMSE: \", rmse_lasso_test)"
   ]
  },
  {
   "cell_type": "code",
   "execution_count": 21,
   "id": "22589e5f",
   "metadata": {},
   "outputs": [
    {
     "name": "stdout",
     "output_type": "stream",
     "text": [
      "coef：\n",
      "age 0.0\n",
      "sex 0.20254664209503087\n",
      "bmi -0.017779836081429242\n",
      "children 0.03683541086708316\n",
      "smoker 0.06456645038739137\n",
      "charges 0.08551199877925209\n",
      "regionX 0.008018814300395518\n",
      "regionY 0.028275164340432916\n",
      "R2_score (train):  0.8336199688816484\n",
      "R2_score (test): 0.8737128249029906\n",
      "train_RMSE:  0.16238716209950968\n",
      "test_RMSE:  0.1433298992554077\n"
     ]
    }
   ],
   "source": [
    "ridgeReg = Ridge(alpha=0.00005)\n",
    "\n",
    "poly_reg = PolynomialFeatures(degree = 2)\n",
    "X_poly_train = X_poly_test = []\n",
    "X_poly_train = poly_reg.fit_transform(X_train)\n",
    "X_poly_test = poly_reg.fit_transform(X_test)\n",
    "\n",
    "ridgeReg.fit(X_poly_train, y_train)\n",
    "\n",
    "y_pred_ridge_train = ridgeReg.predict(X_poly_train)\n",
    "r2_score_ridge_train = ridgeReg.score(X_poly_train, y_train)\n",
    "\n",
    "y_pred_ridge_test = ridgeReg.predict(X_poly_test)\n",
    "r2_score_ridge_test = ridgeReg.score(X_poly_test, y_test)\n",
    "\n",
    "rmse_ridge_train = (np.sqrt(mean_squared_error(y_train, y_pred_ridge_train)))\n",
    "rmse_ridge_test = (np.sqrt(mean_squared_error(y_test, y_pred_ridge_test)))\n",
    "\n",
    "print(\"coef：\")\n",
    "for i, j in zip(new_df.columns, ridgeReg.coef_[0]):\n",
    "    print(i, j)\n",
    "\n",
    "print(\"R2_score (train): \",r2_score_ridge_train)\n",
    "print(\"R2_score (test):\", r2_score_ridge_test)\n",
    "print(\"train_RMSE: \", rmse_ridge_train)\n",
    "print(\"test_RMSE: \", rmse_ridge_test)"
   ]
  }
 ],
 "metadata": {
  "kernelspec": {
   "display_name": "Python 3 (ipykernel)",
   "language": "python",
   "name": "python3"
  },
  "language_info": {
   "codemirror_mode": {
    "name": "ipython",
    "version": 3
   },
   "file_extension": ".py",
   "mimetype": "text/x-python",
   "name": "python",
   "nbconvert_exporter": "python",
   "pygments_lexer": "ipython3",
   "version": "3.10.14"
  }
 },
 "nbformat": 4,
 "nbformat_minor": 5
}
